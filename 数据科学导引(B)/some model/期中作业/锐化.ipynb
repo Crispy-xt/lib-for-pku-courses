{
 "cells": [
  {
   "cell_type": "markdown",
   "metadata": {},
   "source": [
    "\n",
    "# Goal\n",
    "The goal in this competition is to take an image of a handwritten single digit, and determine what that digit is.\n",
    "For every in the test set, you should predict the correct label.\n",
    "# Metric\n",
    "This competition is evaluated on the categorization accuracy of your predictions (the percentage of images you get correct).\n",
    "\n",
    "# Submission File Format\n",
    "The file should contain a header and have the following format:\n",
    "\n",
    "ImageId,Label\n",
    "* 1,0\n",
    "* 2,0\n",
    "* 3,0\n",
    "* etc.\n"
   ]
  },
  {
   "cell_type": "markdown",
   "metadata": {},
   "source": [
    "<a id=\"数据集\"></a> <br>\n",
    "# 数据集概览\n",
    "* 在本教程中，我们将使用“手语数字数据集”。\n",
    "* 该数据集中包含2062张手语数字图片。\n",
    "* 数字范围是从0到9。因此共有10个不同的手势。\n",
    "* 为了简化起见，我们仅使用手势0和1。\n",
    "* 准备我们的X和Y数组。X是图像数组（手势零和一手势），Y是标签数组（0和1）。"
   ]
  },
  {
   "cell_type": "code",
   "execution_count": 1,
   "metadata": {},
   "outputs": [],
   "source": [
    "import numpy as np # linear algebra\n",
    "import pandas as pd # data processing, CSV file I/O (e.g. pd.read_csv)\n",
    "import matplotlib.pyplot as plt\n",
    "# Input data files are available in the \"../input/\" directory.\n",
    "# For example, running this (by clicking run or pressing Shift+Enter) will list the files in the input directory\n",
    "import warnings\n",
    "# filter warnings\n",
    "warnings.filterwarnings('ignore')"
   ]
  },
  {
   "cell_type": "code",
   "execution_count": 2,
   "metadata": {},
   "outputs": [
    {
     "name": "stdout",
     "output_type": "stream",
     "text": [
      "数据形状: (42000, 784)\n",
      "数据形状: (42000,)\n",
      "数据形状: (42000, 784)\n",
      "数据形状: (42000,)\n",
      "数据形状: (28000, 784)\n"
     ]
    }
   ],
   "source": [
    "# 先用pandas读入csv\n",
    "from sklearn.model_selection import train_test_split\n",
    "df = pd.read_csv('train.csv')\n",
    "Y_test = df.iloc[:, 0].values   # 标签数据\n",
    "X_test = df.iloc[:, 1:].values  # 特征数据\n",
    "np.save(\"X.npy\", X_test)\n",
    "np.save(\"Y.npy\", Y_test)\n",
    "X_train = np.load('X.npy')\n",
    "Y_train = np.load('Y.npy')\n",
    "\n",
    "z_test = pd.read_csv('test.csv')\n",
    "np.save(\"Z.npy\", z_test)\n",
    "z_test_train = np.load('Z.npy')\n",
    "\n",
    "# X_train, X_test, Y_train, Y_test = train_test_split(X, Y, test_size=0.15, random_state=42)\n",
    "\n",
    "print(\"数据形状:\", X_train.shape) \n",
    "print(\"数据形状:\", Y_train.shape) \n",
    "print(\"数据形状:\", X_test.shape) \n",
    "print(\"数据形状:\", Y_test.shape) \n",
    "print(\"数据形状:\", z_test.shape) \n",
    "\n"
   ]
  },
  {
   "cell_type": "code",
   "execution_count": 3,
   "metadata": {},
   "outputs": [
    {
     "name": "stdout",
     "output_type": "stream",
     "text": [
      "数据形状: (42000, 784)\n",
      "[[0 0 0 ... 0 0 0]\n",
      " [0 0 0 ... 0 0 0]\n",
      " [0 0 0 ... 0 0 0]\n",
      " ...\n",
      " [0 0 0 ... 0 0 0]\n",
      " [0 0 0 ... 0 0 0]\n",
      " [0 0 0 ... 0 0 0]]\n",
      "数据形状: (42000,)\n",
      "[1 0 1 4 0 0 7 3 5 3]\n"
     ]
    },
    {
     "data": {
      "text/plain": [
       "(-0.5, 27.5, 27.5, -0.5)"
      ]
     },
     "execution_count": 3,
     "metadata": {},
     "output_type": "execute_result"
    },
    {
     "data": {
      "image/png": "[encoded data removed]",
      "text/plain": [
       "<Figure size 640x480 with 3 Axes>"
      ]
     },
     "metadata": {},
     "output_type": "display_data"
    }
   ],
   "source": [
    "# load data set\n",
    "img_size = 28\n",
    "dataX = np.load('X.npy') # 查看数据形状\n",
    "print(\"数据形状:\", dataX.shape) # 打印前五行数据 \n",
    "print(dataX[:10])\n",
    "dataY = np.load('Y.npy') # 查看数据形状\n",
    "print(\"数据形状:\", dataY.shape) # 打印前五行数据\n",
    "\n",
    "print(dataY[:10])\n",
    "\n",
    "plt.subplot(1, 3, 1)\n",
    "plt.imshow(dataX[290].reshape(img_size, img_size))\n",
    "plt.axis('off')\n",
    "plt.subplot(1, 3, 2)\n",
    "plt.imshow(dataX[950].reshape(img_size, img_size))\n",
    "plt.axis('off')\n",
    "plt.subplot(1, 3, 3)\n",
    "plt.imshow(dataX[1560].reshape(img_size, img_size))\n",
    "plt.axis('off')"
   ]
  },
  {
   "cell_type": "markdown",
   "metadata": {},
   "source": [
    "* 为手势零的图像创建标签数组，其值为0，为一手势的图像创建标签数组，其值为1"
   ]
  },
  {
   "cell_type": "code",
   "execution_count": 4,
   "metadata": {},
   "outputs": [
    {
     "name": "stdout",
     "output_type": "stream",
     "text": [
      "Y_test shape:  (42000, 1)\n",
      "Y_train shape:  (42000, 1)\n",
      "X_shape:  (42000, 784)\n",
      "Y_shape:  (42000, 1)\n",
      "X_test shape:  (42000, 784)\n",
      "Y_test shape:  (42000, 1)\n"
     ]
    }
   ],
   "source": [
    "Y_test = Y_test.reshape(-1, 1)\n",
    "Y_train = Y_train.reshape(-1, 1)\n",
    "print(\"Y_test shape: \", Y_test.shape)\n",
    "print(\"Y_train shape: \", Y_train.shape)\n",
    "print(\"X_shape: \" , X_train.shape)\n",
    "print(\"Y_shape: \" , Y_train.shape)\n",
    "print(\"X_test shape: \" , X_test.shape)\n",
    "print(\"Y_test shape: \" , Y_test.shape)"
   ]
  },
  {
   "cell_type": "code",
   "execution_count": 5,
   "metadata": {},
   "outputs": [
    {
     "name": "stdout",
     "output_type": "stream",
     "text": [
      "X_train number:  35700\n",
      "X_test number:  6300\n"
     ]
    }
   ],
   "source": [
    "# Then lets create x_train, y_train, x_test, y_test arrays\n",
    "from sklearn.model_selection import train_test_split\n",
    "X_train, X_test, Y_train, Y_test = train_test_split(X_train, Y_train, test_size=0.15, random_state=42)\n",
    "\n",
    "number_of_train = X_train.shape[0]\n",
    "number_of_test = X_test.shape[0]\n",
    "print(\"X_train number: \" , number_of_train)\n",
    "print(\"X_test number: \" , number_of_test)"
   ]
  },
  {
   "cell_type": "markdown",
   "metadata": {},
   "source": [
    "* 现在我们有3维的输入数组（X），为了将其作为感知机模型的输入，我们需要将其展平为2维\n",
    "* 我们的标签数组（Y）已经是展平的（2D），所以我们保持不变。\n",
    "* 将X数组（图像数组）展平。\n"
   ]
  },
  {
   "cell_type": "code",
   "execution_count": 6,
   "metadata": {},
   "outputs": [],
   "source": [
    "# X_train_flatten = X_train.reshape(number_of_train,X_train.shape[1]*X_train.shape[2])\n",
    "# X_test_flatten = X_test .reshape(number_of_test,X_test.shape[1]*X_test.shape[2])\n",
    "# print(\"X train flatten\",X_train_flatten.shape)\n",
    "# print(\"X test flatten\",X_test_flatten.shape)"
   ]
  },
  {
   "cell_type": "markdown",
   "metadata": {},
   "source": [
    "* 为方便后续矩阵乘法的计算，对样本矩阵进行转置"
   ]
  },
  {
   "cell_type": "code",
   "execution_count": 7,
   "metadata": {},
   "outputs": [
    {
     "name": "stdout",
     "output_type": "stream",
     "text": [
      "X_train:  (35700, 784)\n",
      "X_test:  (6300, 784)\n",
      "Y_train:  (35700, 1)\n",
      "Y_test:  (6300, 1)\n"
     ]
    }
   ],
   "source": [
    "y_train = Y_train.T\n",
    "y_test = Y_test.T\n",
    "print(\"X_train: \",X_train.shape)\n",
    "print(\"X_test: \",X_test.shape)\n",
    "print(\"Y_train: \",Y_train.shape)\n",
    "print(\"Y_test: \",Y_test.shape)"
   ]
  },
  {
   "cell_type": "markdown",
   "metadata": {},
   "source": [
    "# Do Sharpen"
   ]
  },
  {
   "cell_type": "code",
   "execution_count": 8,
   "metadata": {},
   "outputs": [
    {
     "name": "stdout",
     "output_type": "stream",
     "text": [
      "(35700, 28, 28)\n",
      "(6300, 28, 28)\n",
      "(28000, 28, 28)\n"
     ]
    }
   ],
   "source": [
    "import cv2\n",
    "import numpy as np\n",
    "\n",
    "# 假设你的数据已经加载到这些变量中\n",
    "z_test = z_test.to_numpy() if isinstance(z_test, pd.DataFrame) else z_test\n",
    "# 重新调整数据形状\n",
    "X_train_reshaped = X_train.reshape((35700, 28, 28))\n",
    "X_test_reshaped = X_test.reshape((6300, 28, 28))\n",
    "z_test_reshaped = z_test.reshape((28000, 28, 28))\n",
    "\n",
    "# 转换图像数据类型为 CV_8UC1\n",
    "X_train_reshaped = X_train_reshaped.astype(np.uint8)\n",
    "X_test_reshaped = X_test_reshaped.astype(np.uint8)\n",
    "z_test_reshaped = z_test_reshaped.astype(np.uint8)\n",
    "\n",
    "def unsharp_mask(image, kernel_size=(5, 5), sigma=1.0, amount=5.0, threshold=0):\n",
    "    blurred = cv2.GaussianBlur(image, kernel_size, sigma)\n",
    "    sharpened = float(amount + 1) * image - float(amount) * blurred\n",
    "    sharpened = np.maximum(sharpened, np.zeros(sharpened.shape))\n",
    "    sharpened = np.minimum(sharpened, 255 * np.ones(sharpened.shape))\n",
    "    sharpened = sharpened.round().astype(np.uint8)\n",
    "    return sharpened\n",
    "\n",
    "# 对所有图像进行unsharp_mask锐化处理\n",
    "X_train_sharpened = np.array([unsharp_mask(image) for image in X_train_reshaped])\n",
    "X_test_sharpened = np.array([unsharp_mask(image) for image in X_test_reshaped])\n",
    "z_test_sharpened = np.array([unsharp_mask(image) for image in z_test_reshaped])\n",
    "\n",
    "# 检查锐化结果\n",
    "print(X_train_sharpened.shape)  # 输出应为 (35700, 28, 28)\n",
    "print(X_test_sharpened.shape)   # 输出应为 (35700, 28, 28)\n",
    "print(z_test_sharpened.shape)   # 输出应为 (35700, 28, 28)\n",
    "\n",
    "\n",
    "\n"
   ]
  },
  {
   "cell_type": "code",
   "execution_count": 10,
   "metadata": {},
   "outputs": [
    {
     "data": {
      "image/png": "[encoded data removed]",
      "text/plain": [
       "<Figure size 1000x1000 with 10 Axes>"
      ]
     },
     "metadata": {},
     "output_type": "display_data"
    }
   ],
   "source": [
    "# 随机抽取样本的索引\n",
    "num_samples = 5\n",
    "random_indices = np.random.choice(X_train_reshaped.shape[0], num_samples, replace=False)\n",
    "fig, axs = plt.subplots(num_samples, 2, figsize=(10, 10))\n",
    "\n",
    "for i, idx in enumerate(random_indices):\n",
    "    original_image = X_train_reshaped[idx]\n",
    "    sharpened_image = unsharp_mask(original_image)\n",
    "\n",
    "    axs[i, 0].imshow(original_image, cmap='gray')\n",
    "    axs[i, 0].set_title('Original')\n",
    "    axs[i, 0].axis('off')\n",
    "\n",
    "    axs[i, 1].imshow(sharpened_image, cmap='gray')\n",
    "    axs[i, 1].set_title('Unsharp Masked')\n",
    "    axs[i, 1].axis('off')\n",
    "\n",
    "plt.tight_layout()\n",
    "plt.show()"
   ]
  }
 ],
 "metadata": {
  "kernelspec": {
   "display_name": "base",
   "language": "python",
   "name": "python3"
  },
  "language_info": {
   "codemirror_mode": {
    "name": "ipython",
    "version": 3
   },
   "file_extension": ".py",
   "mimetype": "text/x-python",
   "name": "python",
   "nbconvert_exporter": "python",
   "pygments_lexer": "ipython3",
   "version": "3.12.7"
  }
 },
 "nbformat": 4,
 "nbformat_minor": 2
}
