{
 "cells": [
  {
   "cell_type": "code",
   "execution_count": 23,
   "metadata": {},
   "outputs": [],
   "source": [
    "import numpy as np # linear algebra\n",
    "import pandas as pd # data processing, CSV file I/O (e.g. pd.read_csv)\n",
    "import matplotlib.pyplot as plt\n",
    "# Input data files are available in the \"../input/\" directory.\n",
    "# For example, running this (by clicking run or pressing Shift+Enter) will list the files in the input directory\n",
    "import warnings\n",
    "# filter warnings\n",
    "warnings.filterwarnings('ignore')"
   ]
  },
  {
   "cell_type": "code",
   "execution_count": 24,
   "metadata": {},
   "outputs": [
    {
     "name": "stdout",
     "output_type": "stream",
     "text": [
      "数据形状: (42000, 784)\n",
      "数据形状: (42000,)\n",
      "数据形状: (42000, 784)\n",
      "数据形状: (42000,)\n"
     ]
    }
   ],
   "source": [
    "# 先用pandas读入csv\n",
    "from sklearn.model_selection import train_test_split\n",
    "df = pd.read_csv('train.csv') # 导入原始训练集\n",
    "Y = df.iloc[:, 0].values  # 标签数据\n",
    "X = df.iloc[:, 1:].values  # 特征数据\n",
    "Y_test = df.iloc[:, 0].values   # 标签数据\n",
    "X_test = df.iloc[:, 1:].values  # 特征数据\n",
    "np.save(\"X.npy\", X)\n",
    "np.save(\"Y.npy\", Y)\n",
    "X_train = np.load('X.npy')\n",
    "Y_train = np.load('Y.npy')\n",
    "\n",
    "# X_train, X_test, Y_train, Y_test = train_test_split(X, Y, test_size=0.15, random_state=42)\n",
    "\n",
    "print(\"数据形状:\", X_train.shape) \n",
    "print(\"数据形状:\", Y_train.shape) \n",
    "print(\"数据形状:\", X_test.shape) \n",
    "print(\"数据形状:\", Y_test.shape) "
   ]
  },
  {
   "cell_type": "code",
   "execution_count": 25,
   "metadata": {},
   "outputs": [
    {
     "name": "stdout",
     "output_type": "stream",
     "text": [
      "数据形状: (42000, 784)\n",
      "[[0 0 0 ... 0 0 0]\n",
      " [0 0 0 ... 0 0 0]\n",
      " [0 0 0 ... 0 0 0]\n",
      " ...\n",
      " [0 0 0 ... 0 0 0]\n",
      " [0 0 0 ... 0 0 0]\n",
      " [0 0 0 ... 0 0 0]]\n",
      "数据形状: (42000,)\n",
      "[1 0 1 4 0 0 7 3 5 3]\n"
     ]
    },
    {
     "data": {
      "text/plain": [
       "(-0.5, 27.5, 27.5, -0.5)"
      ]
     },
     "execution_count": 25,
     "metadata": {},
     "output_type": "execute_result"
    },
    {
     "data": {
      "image/png": "[encoded data removed]",
      "text/plain": [
       "<Figure size 640x480 with 3 Axes>"
      ]
     },
     "metadata": {},
     "output_type": "display_data"
    }
   ],
   "source": [
    "# load data set\n",
    "img_size = 28\n",
    "dataX = np.load('X.npy') # 查看数据形状\n",
    "print(\"数据形状:\", dataX.shape) # 打印前五行数据 \n",
    "print(dataX[:10])\n",
    "dataY = np.load('Y.npy') # 查看数据形状\n",
    "print(\"数据形状:\", dataY.shape) # 打印前五行数据\n",
    "\n",
    "print(dataY[:10])\n",
    "\n",
    "plt.subplot(1, 3, 1)\n",
    "plt.imshow(dataX[290].reshape(img_size, img_size))\n",
    "plt.axis('off')\n",
    "plt.subplot(1, 3, 2)\n",
    "plt.imshow(dataX[950].reshape(img_size, img_size))\n",
    "plt.axis('off')\n",
    "plt.subplot(1, 3, 3)\n",
    "plt.imshow(dataX[1560].reshape(img_size, img_size))\n",
    "plt.axis('off')"
   ]
  },
  {
   "cell_type": "code",
   "execution_count": 26,
   "metadata": {},
   "outputs": [
    {
     "name": "stdout",
     "output_type": "stream",
     "text": [
      "0: 4132\n",
      "1: 4684\n",
      "2: 4177\n",
      "3: 4351\n",
      "4: 4072\n",
      "5: 3795\n",
      "6: 4137\n",
      "7: 4401\n",
      "8: 4063\n",
      "9: 4188\n"
     ]
    }
   ],
   "source": [
    "# 统计训练集中0到9的数目\n",
    "values, counts = np.unique(dataY, return_counts=True)\n",
    "\n",
    "# 输出 0 到 9 的计数\n",
    "for i in range(10):\n",
    "    print(f\"{i}: {counts[np.where(values == i)][0] if i in values else 0}\")"
   ]
  },
  {
   "cell_type": "code",
   "execution_count": 27,
   "metadata": {},
   "outputs": [
    {
     "data": {
      "image/png": "[encoded data removed]",
      "text/plain": [
       "<Figure size 640x480 with 1 Axes>"
      ]
     },
     "metadata": {},
     "output_type": "display_data"
    }
   ],
   "source": [
    "# 绘制数字出现频次直方图\n",
    "# 设置 x 轴为 0 到 9\n",
    "x = np.arange(10)\n",
    "\n",
    "# 创建一个柱状图\n",
    "plt.bar(x, counts, color=\"skyblue\")\n",
    "\n",
    "# 设置标题和标签\n",
    "plt.title(\"Frequency of Digits 0-9\")\n",
    "plt.xlabel(\"Digit\")\n",
    "plt.ylabel(\"Frequency\")\n",
    "\n",
    "# 显示图形\n",
    "plt.show()"
   ]
  },
  {
   "cell_type": "markdown",
   "metadata": {},
   "source": [
    "可以看出各个数字的出现频次分布比较均匀。无需过多处理。"
   ]
  },
  {
   "cell_type": "code",
   "execution_count": 28,
   "metadata": {},
   "outputs": [
    {
     "name": "stdout",
     "output_type": "stream",
     "text": [
      "0: 26621312\n",
      "1: 16170\n",
      "2: 23601\n",
      "3: 25196\n",
      "4: 26733\n",
      "5: 27358\n",
      "6: 26188\n",
      "7: 27363\n",
      "8: 21668\n",
      "9: 26703\n",
      "10: 24799\n",
      "11: 25025\n",
      "12: 21308\n",
      "13: 27957\n",
      "14: 18903\n",
      "15: 20090\n",
      "16: 20193\n",
      "17: 19216\n",
      "18: 18992\n",
      "19: 23983\n",
      "20: 21095\n",
      "21: 24903\n",
      "22: 19141\n",
      "23: 15953\n",
      "24: 17927\n",
      "25: 20918\n",
      "26: 16860\n",
      "27: 16742\n",
      "28: 17844\n",
      "29: 25924\n",
      "30: 15890\n",
      "31: 18291\n",
      "32: 20182\n",
      "33: 11018\n",
      "34: 13932\n",
      "35: 15182\n",
      "36: 15479\n",
      "37: 17357\n",
      "38: 18369\n",
      "39: 12632\n",
      "40: 14442\n",
      "41: 18851\n",
      "42: 15600\n",
      "43: 14909\n",
      "44: 13305\n",
      "45: 14729\n",
      "46: 12111\n",
      "47: 16861\n",
      "48: 13812\n",
      "49: 12477\n",
      "50: 17009\n",
      "51: 17509\n",
      "52: 10245\n",
      "53: 13448\n",
      "54: 12670\n",
      "55: 12624\n",
      "56: 16196\n",
      "57: 22260\n",
      "58: 10089\n",
      "59: 12587\n",
      "60: 12557\n",
      "61: 12652\n",
      "62: 13840\n",
      "63: 16794\n",
      "64: 32934\n",
      "65: 10993\n",
      "66: 12350\n",
      "67: 11186\n",
      "68: 11483\n",
      "69: 11762\n",
      "70: 13542\n",
      "71: 12961\n",
      "72: 11996\n",
      "73: 13471\n",
      "74: 9671\n",
      "75: 11122\n",
      "76: 12388\n",
      "77: 9404\n",
      "78: 12303\n",
      "79: 12589\n",
      "80: 11019\n",
      "81: 11679\n",
      "82: 14921\n",
      "83: 10708\n",
      "84: 18847\n",
      "85: 17659\n",
      "86: 18136\n",
      "87: 8999\n",
      "88: 11184\n",
      "89: 12340\n",
      "90: 8944\n",
      "91: 12623\n",
      "92: 12969\n",
      "93: 12121\n",
      "94: 11550\n",
      "95: 11483\n",
      "96: 12338\n",
      "97: 9924\n",
      "98: 11512\n",
      "99: 12535\n",
      "100: 10644\n",
      "101: 9913\n",
      "102: 15408\n",
      "103: 10358\n",
      "104: 11398\n",
      "105: 10476\n",
      "106: 12798\n",
      "107: 11549\n",
      "108: 12576\n",
      "109: 12888\n",
      "110: 11147\n",
      "111: 11168\n",
      "112: 12787\n",
      "113: 14086\n",
      "114: 17074\n",
      "115: 10598\n",
      "116: 13659\n",
      "117: 10294\n",
      "118: 11606\n",
      "119: 10877\n",
      "120: 11514\n",
      "121: 12229\n",
      "122: 11528\n",
      "123: 12620\n",
      "124: 9525\n",
      "125: 11461\n",
      "126: 11663\n",
      "127: 11513\n",
      "128: 52883\n",
      "129: 11558\n",
      "130: 12374\n",
      "131: 13350\n",
      "132: 13116\n",
      "133: 10510\n",
      "134: 10822\n",
      "135: 11595\n",
      "136: 11285\n",
      "137: 12218\n",
      "138: 11965\n",
      "139: 13639\n",
      "140: 12180\n",
      "141: 18989\n",
      "142: 12715\n",
      "143: 11289\n",
      "144: 13311\n",
      "145: 12797\n",
      "146: 11235\n",
      "147: 11684\n",
      "148: 11980\n",
      "149: 11400\n",
      "150: 11993\n",
      "151: 15197\n",
      "152: 12664\n",
      "153: 10809\n",
      "154: 12528\n",
      "155: 13040\n",
      "156: 12939\n",
      "157: 10257\n",
      "158: 11727\n",
      "159: 11210\n",
      "160: 12529\n",
      "161: 12071\n",
      "162: 12534\n",
      "163: 12908\n",
      "164: 10779\n",
      "165: 10811\n",
      "166: 10387\n",
      "167: 10142\n",
      "168: 17539\n",
      "169: 17907\n",
      "170: 20749\n",
      "171: 11771\n",
      "172: 13031\n",
      "173: 13687\n",
      "174: 11836\n",
      "175: 11573\n",
      "176: 12127\n",
      "177: 11797\n",
      "178: 11973\n",
      "179: 12638\n",
      "180: 11937\n",
      "181: 11954\n",
      "182: 11129\n",
      "183: 14269\n",
      "184: 12608\n",
      "185: 12288\n",
      "186: 11888\n",
      "187: 11603\n",
      "188: 12181\n",
      "189: 12915\n",
      "190: 14201\n",
      "191: 36594\n",
      "192: 13914\n",
      "193: 13171\n",
      "194: 12986\n",
      "195: 13850\n",
      "196: 15741\n",
      "197: 16182\n",
      "198: 18210\n",
      "199: 13177\n",
      "200: 12704\n",
      "201: 12435\n",
      "202: 13828\n",
      "203: 20303\n",
      "204: 12813\n",
      "205: 13590\n",
      "206: 15219\n",
      "207: 14767\n",
      "208: 12602\n",
      "209: 13734\n",
      "210: 15150\n",
      "211: 15733\n",
      "212: 16102\n",
      "213: 17897\n",
      "214: 17796\n",
      "215: 16908\n",
      "216: 15266\n",
      "217: 17542\n",
      "218: 15370\n",
      "219: 13669\n",
      "220: 14434\n",
      "221: 17348\n",
      "222: 17986\n",
      "223: 18366\n",
      "224: 16802\n",
      "225: 19169\n",
      "226: 24895\n",
      "227: 17656\n",
      "228: 20462\n",
      "229: 16449\n",
      "230: 18962\n",
      "231: 20756\n",
      "232: 21176\n",
      "233: 25850\n",
      "234: 23345\n",
      "235: 20362\n",
      "236: 22030\n",
      "237: 20928\n",
      "238: 18761\n",
      "239: 19350\n",
      "240: 23538\n",
      "241: 24787\n",
      "242: 21878\n",
      "243: 25809\n",
      "244: 26017\n",
      "245: 24897\n",
      "246: 23672\n",
      "247: 26386\n",
      "248: 24661\n",
      "249: 27763\n",
      "250: 40161\n",
      "251: 78319\n",
      "252: 465950\n",
      "253: 1066447\n",
      "254: 560067\n",
      "255: 223310\n"
     ]
    }
   ],
   "source": [
    "# 下面统计图片中各个灰度值的出现频次\n",
    "values, counts = np.unique(dataX, return_counts=True)\n",
    "\n",
    "# 输出 0 到 255 的计数\n",
    "for i in range(256):\n",
    "    print(f\"{i}: {counts[np.where(values == i)][0] if i in values else 0}\")"
   ]
  },
  {
   "cell_type": "code",
   "execution_count": 29,
   "metadata": {},
   "outputs": [
    {
     "data": {
      "image/png": "[encoded data removed]",
      "text/plain": [
       "<Figure size 640x480 with 1 Axes>"
      ]
     },
     "metadata": {},
     "output_type": "display_data"
    }
   ],
   "source": [
    "# 绘制灰度值出现频次直方图\n",
    "# 设置 x 轴为 0 到 255\n",
    "x = np.arange(256)\n",
    "\n",
    "# 创建一个柱状图\n",
    "plt.bar(x, counts, color=\"black\")\n",
    "\n",
    "# 设置标题和标签\n",
    "plt.title(\"Frequency of Digits 0-255\")\n",
    "plt.xlabel(\"Digit\")\n",
    "plt.ylabel(\"Frequency\")\n",
    "\n",
    "# 显示图形\n",
    "plt.show()"
   ]
  },
  {
   "cell_type": "markdown",
   "metadata": {},
   "source": [
    "灰度值为0的点明显多出几个量级，影响直方图的观感，下面不考虑这些灰度值为0的点进一步绘图观察。"
   ]
  },
  {
   "cell_type": "code",
   "execution_count": 30,
   "metadata": {},
   "outputs": [
    {
     "data": {
      "image/png": "[encoded data removed]",
      "text/plain": [
       "<Figure size 640x480 with 1 Axes>"
      ]
     },
     "metadata": {},
     "output_type": "display_data"
    }
   ],
   "source": [
    "# 绘制灰度值出现频次直方图\n",
    "# 设置 x 轴为 1 到 255\n",
    "x = np.arange(1,256)\n",
    "\n",
    "# 创建一个柱状图\n",
    "plt.bar(x, counts[1:], color=\"black\")\n",
    "\n",
    "# 设置标题和标签\n",
    "plt.title(\"Frequency of Digits 1-255\")\n",
    "plt.xlabel(\"Digit\")\n",
    "plt.ylabel(\"Frequency\")\n",
    "\n",
    "# 显示图形\n",
    "plt.show()"
   ]
  },
  {
   "cell_type": "markdown",
   "metadata": {},
   "source": [
    "灰度值≥252的点明显又比其他点多出一个数量级，我们进一步绘图。"
   ]
  },
  {
   "cell_type": "code",
   "execution_count": 31,
   "metadata": {},
   "outputs": [
    {
     "data": {
      "image/png": "[encoded data removed]",
      "text/plain": [
       "<Figure size 640x480 with 1 Axes>"
      ]
     },
     "metadata": {},
     "output_type": "display_data"
    }
   ],
   "source": [
    "# 绘制灰度值出现频次直方图\n",
    "# 设置 x 轴为 1 到 251\n",
    "x = np.arange(1, 252)\n",
    "\n",
    "# 创建一个柱状图\n",
    "plt.bar(x, counts[1:252], color=\"black\")\n",
    "\n",
    "# 设置标题和标签\n",
    "plt.title(\"Frequency of Digits 1-251\")\n",
    "plt.xlabel(\"Digit\")\n",
    "plt.ylabel(\"Frequency\")\n",
    "\n",
    "# 显示图形\n",
    "plt.show()"
   ]
  },
  {
   "cell_type": "markdown",
   "metadata": {},
   "source": [
    "100到150中间又存在一个明显突出的值，进一步绘制。"
   ]
  },
  {
   "cell_type": "code",
   "execution_count": 32,
   "metadata": {},
   "outputs": [
    {
     "data": {
      "image/png": "[encoded data removed]",
      "text/plain": [
       "<Figure size 640x480 with 1 Axes>"
      ]
     },
     "metadata": {},
     "output_type": "display_data"
    }
   ],
   "source": [
    "# 绘制灰度值出现频次直方图\n",
    "# 设置 x 轴为 100 到 150\n",
    "x = np.arange(100, 151)\n",
    "\n",
    "# 创建一个柱状图\n",
    "plt.bar(x, counts[100:151], color=\"black\")\n",
    "\n",
    "# 设置标题和标签\n",
    "plt.title(\"Frequency of Digits 100-150\")\n",
    "plt.xlabel(\"Digit\")\n",
    "plt.ylabel(\"Frequency\")\n",
    "\n",
    "# 显示图形\n",
    "plt.show()"
   ]
  },
  {
   "cell_type": "markdown",
   "metadata": {},
   "source": [
    "总结：在0和255附近的灰度值占绝大多数，即从整体上看，图像基本由黑点和亮度极高的亮点构成\n",
    "从最后一张直方图可以看出，灰度值为128的点数量也相对偏多，这或许提示我们在锐化时可能可以以128作为一个分隔点。"
   ]
  }
 ],
 "metadata": {
  "kernelspec": {
   "display_name": "base",
   "language": "python",
   "name": "python3"
  },
  "language_info": {
   "codemirror_mode": {
    "name": "ipython",
    "version": 3
   },
   "file_extension": ".py",
   "mimetype": "text/x-python",
   "name": "python",
   "nbconvert_exporter": "python",
   "pygments_lexer": "ipython3",
   "version": "3.12.7"
  }
 },
 "nbformat": 4,
 "nbformat_minor": 2
}
