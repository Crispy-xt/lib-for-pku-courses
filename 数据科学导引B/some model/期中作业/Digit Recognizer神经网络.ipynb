{
 "cells": [
  {
   "cell_type": "markdown",
   "metadata": {},
   "source": [
    "\n",
    "# Goal\n",
    "The goal in this competition is to take an image of a handwritten single digit, and determine what that digit is.\n",
    "For every in the test set, you should predict the correct label.\n",
    "# Metric\n",
    "This competition is evaluated on the categorization accuracy of your predictions (the percentage of images you get correct).\n",
    "\n",
    "# Submission File Format\n",
    "The file should contain a header and have the following format:\n",
    "\n",
    "ImageId,Label\n",
    "* 1,0\n",
    "* 2,0\n",
    "* 3,0\n",
    "* etc.\n"
   ]
  },
  {
   "cell_type": "markdown",
   "metadata": {},
   "source": [
    "<a id=\"数据集\"></a> <br>\n",
    "# 数据集概览\n",
    "* 在本教程中，我们将使用“手语数字数据集”。\n",
    "* 该数据集中包含2062张手语数字图片。\n",
    "* 数字范围是从0到9。因此共有10个不同的手势。\n",
    "* 为了简化起见，我们仅使用手势0和1。\n",
    "* 准备我们的X和Y数组。X是图像数组（手势零和一手势），Y是标签数组（0和1）。"
   ]
  },
  {
   "cell_type": "code",
   "execution_count": 1,
   "metadata": {},
   "outputs": [],
   "source": [
    "import numpy as np # linear algebra\n",
    "import pandas as pd # data processing, CSV file I/O (e.g. pd.read_csv)\n",
    "import matplotlib.pyplot as plt\n",
    "# Input data files are available in the \"../input/\" directory.\n",
    "# For example, running this (by clicking run or pressing Shift+Enter) will list the files in the input directory\n",
    "import warnings\n",
    "# filter warnings\n",
    "warnings.filterwarnings('ignore')"
   ]
  },
  {
   "cell_type": "code",
   "execution_count": 2,
   "metadata": {},
   "outputs": [
    {
     "name": "stdout",
     "output_type": "stream",
     "text": [
      "数据形状: (42000, 784)\n",
      "数据形状: (42000,)\n"
     ]
    },
    {
     "ename": "NameError",
     "evalue": "name 'X_test' is not defined",
     "output_type": "error",
     "traceback": [
      "\u001b[1;31m---------------------------------------------------------------------------\u001b[0m",
      "\u001b[1;31mNameError\u001b[0m                                 Traceback (most recent call last)",
      "Cell \u001b[1;32mIn[2], line 15\u001b[0m\n\u001b[0;32m     13\u001b[0m \u001b[38;5;28mprint\u001b[39m(\u001b[38;5;124m\"\u001b[39m\u001b[38;5;124m数据形状:\u001b[39m\u001b[38;5;124m\"\u001b[39m, X_train\u001b[38;5;241m.\u001b[39mshape) \n\u001b[0;32m     14\u001b[0m \u001b[38;5;28mprint\u001b[39m(\u001b[38;5;124m\"\u001b[39m\u001b[38;5;124m数据形状:\u001b[39m\u001b[38;5;124m\"\u001b[39m, Y_train\u001b[38;5;241m.\u001b[39mshape) \n\u001b[1;32m---> 15\u001b[0m \u001b[38;5;28mprint\u001b[39m(\u001b[38;5;124m\"\u001b[39m\u001b[38;5;124m数据形状:\u001b[39m\u001b[38;5;124m\"\u001b[39m, \u001b[43mX_test\u001b[49m\u001b[38;5;241m.\u001b[39mshape) \n\u001b[0;32m     16\u001b[0m \u001b[38;5;28mprint\u001b[39m(\u001b[38;5;124m\"\u001b[39m\u001b[38;5;124m数据形状:\u001b[39m\u001b[38;5;124m\"\u001b[39m, Y_test\u001b[38;5;241m.\u001b[39mshape) \n",
      "\u001b[1;31mNameError\u001b[0m: name 'X_test' is not defined"
     ]
    }
   ],
   "source": [
    "# 先用pandas读入csv\n",
    "from sklearn.model_selection import train_test_split\n",
    "df = pd.read_csv('train.csv')\n",
    "Y = df.iloc[:, 0].values   # 标签数据\n",
    "X = df.iloc[:, 1:].values  # 特征数据\n",
    "np.save(\"X.npy\", X)\n",
    "np.save(\"Y.npy\", Y)\n",
    "X_train = np.load('X.npy')\n",
    "Y_train = np.load('Y.npy')\n",
    "\n",
    "# X_train, X_test, Y_train, Y_test = train_test_split(X, Y, test_size=0.15, random_state=42)\n",
    "\n",
    "print(\"数据形状:\", X_train.shape) \n",
    "print(\"数据形状:\", Y_train.shape) \n",
    "print(\"数据形状:\", X_test.shape) \n",
    "print(\"数据形状:\", Y_test.shape) \n",
    "\n"
   ]
  },
  {
   "cell_type": "code",
   "execution_count": 5,
   "metadata": {},
   "outputs": [
    {
     "name": "stdout",
     "output_type": "stream",
     "text": [
      "数据形状: (42000, 784)\n",
      "[[0 0 0 ... 0 0 0]\n",
      " [0 0 0 ... 0 0 0]\n",
      " [0 0 0 ... 0 0 0]\n",
      " ...\n",
      " [0 0 0 ... 0 0 0]\n",
      " [0 0 0 ... 0 0 0]\n",
      " [0 0 0 ... 0 0 0]]\n",
      "数据形状: (42000,)\n",
      "[1 0 1 4 0 0 7 3 5 3]\n"
     ]
    },
    {
     "data": {
      "text/plain": [
       "(-0.5, 27.5, 27.5, -0.5)"
      ]
     },
     "execution_count": 5,
     "metadata": {},
     "output_type": "execute_result"
    },
    {
     "data": {
      "image/png": "[encoded data removed]",
      "text/plain": [
       "<Figure size 640x480 with 3 Axes>"
      ]
     },
     "metadata": {},
     "output_type": "display_data"
    }
   ],
   "source": [
    "# load data set\n",
    "img_size = 28\n",
    "dataX = np.load('X.npy') # 查看数据形状\n",
    "print(\"数据形状:\", dataX.shape) # 打印前五行数据 \n",
    "print(dataX[:10])\n",
    "dataY = np.load('Y.npy') # 查看数据形状\n",
    "print(\"数据形状:\", dataY.shape) # 打印前五行数据\n",
    "\n",
    "print(dataY[:10])\n",
    "\n",
    "plt.subplot(1, 3, 1)\n",
    "plt.imshow(dataX[260].reshape(img_size, img_size))\n",
    "plt.axis('off')\n",
    "plt.subplot(1, 3, 2)\n",
    "plt.imshow(dataX[900].reshape(img_size, img_size))\n",
    "plt.axis('off')\n",
    "plt.subplot(1, 3, 3)\n",
    "plt.imshow(dataX[1500].reshape(img_size, img_size))\n",
    "plt.axis('off')"
   ]
  },
  {
   "cell_type": "markdown",
   "metadata": {},
   "source": [
    "* 为手势零的图像创建标签数组，其值为0，为一手势的图像创建标签数组，其值为1"
   ]
  },
  {
   "cell_type": "code",
   "execution_count": 6,
   "metadata": {},
   "outputs": [
    {
     "name": "stdout",
     "output_type": "stream",
     "text": [
      "Y_test shape:  (42000, 1)\n",
      "Y_train shape:  (42000, 1)\n",
      "X_shape:  (42000, 784)\n",
      "Y_shape:  (42000,)\n",
      "X_test shape:  (42000, 784)\n",
      "Y_test shape:  (42000, 1)\n"
     ]
    }
   ],
   "source": [
    "Y_test = Y_test.reshape(-1, 1)\n",
    "Y_train = Y_train.reshape(-1, 1)\n",
    "print(\"Y_test shape: \", Y_test.shape)\n",
    "print(\"Y_train shape: \", Y_train.shape)\n",
    "print(\"X_shape: \" , X.shape)\n",
    "print(\"Y_shape: \" , Y.shape)\n",
    "print(\"X_test shape: \" , X_test.shape)\n",
    "print(\"Y_test shape: \" , Y_test.shape)"
   ]
  },
  {
   "cell_type": "code",
   "execution_count": 7,
   "metadata": {},
   "outputs": [],
   "source": [
    "# sample_size = 5000 # 选择较小的样本数量\n",
    "# sample_size = min(5000, X_test.shape[0])\n",
    "# indices = np.random.choice(X_test.shape[0], sample_size, replace=False)\n",
    "# X = X[indices]\n",
    "# Y = Y[indices]\n",
    "# X_test = X_test[indices]\n",
    "# Y_test = Y_test[indices]\n"
   ]
  },
  {
   "cell_type": "code",
   "execution_count": 8,
   "metadata": {},
   "outputs": [
    {
     "name": "stdout",
     "output_type": "stream",
     "text": [
      "X_train number:  35700\n",
      "X_test number:  6300\n"
     ]
    }
   ],
   "source": [
    "# Then lets create x_train, y_train, x_test, y_test arrays\n",
    "from sklearn.model_selection import train_test_split\n",
    "X_train, X_test, Y_train, Y_test = train_test_split(X, Y, test_size=0.15, random_state=42)\n",
    "\n",
    "number_of_train = X_train.shape[0]\n",
    "number_of_test = X_test.shape[0]\n",
    "print(\"X_train number: \" , number_of_train)\n",
    "print(\"X_test number: \" , number_of_test)"
   ]
  },
  {
   "cell_type": "markdown",
   "metadata": {},
   "source": [
    "* 为方便后续矩阵乘法的计算，对样本矩阵进行转置"
   ]
  },
  {
   "cell_type": "code",
   "execution_count": 9,
   "metadata": {},
   "outputs": [
    {
     "name": "stdout",
     "output_type": "stream",
     "text": [
      "x train:  (35700, 784)\n",
      "x test:  (6300, 784)\n",
      "y train:  (35700,)\n",
      "y test:  (6300,)\n"
     ]
    }
   ],
   "source": [
    "y_train = Y_train.T\n",
    "y_test = Y_test.T\n",
    "print(\"x train: \",X_train.shape)\n",
    "print(\"x test: \",X_test.shape)\n",
    "print(\"y train: \",y_train.shape)\n",
    "print(\"y test: \",y_test.shape)"
   ]
  },
  {
   "cell_type": "markdown",
   "metadata": {},
   "source": [
    "# OneHot+归一化"
   ]
  },
  {
   "cell_type": "code",
   "execution_count": 10,
   "metadata": {},
   "outputs": [
    {
     "name": "stdout",
     "output_type": "stream",
     "text": [
      "y_train_encoded shape: (35700, 10)\n",
      "y_test_encoded shape: (6300, 10)\n",
      "y_train shape: (35700, 10)\n",
      "y_test shape: (6300, 10)\n",
      "X_train shape: (35700, 28, 28, 1)\n",
      "X_test shape: (6300, 28, 28, 1)\n"
     ]
    }
   ],
   "source": [
    "from sklearn.preprocessing import OneHotEncoder\n",
    "\n",
    "# 初始化OneHotEncoder\n",
    "encoder = OneHotEncoder(sparse_output=False)\n",
    "\n",
    "# 进行one-hot编码\n",
    "y_train_encoded = encoder.fit_transform(y_train.reshape(-1, 1))\n",
    "y_test_encoded = encoder.transform(y_test.reshape(-1, 1))\n",
    "\n",
    "print(\"y_train_encoded shape:\", y_train_encoded.shape)\n",
    "print(\"y_test_encoded shape:\", y_test_encoded.shape)\n",
    "\n",
    "\n",
    "from sklearn.preprocessing import StandardScaler\n",
    "\n",
    "# scaler = StandardScaler()\n",
    "# x_train_scaled = scaler.fit_transform(x_train.T).T\n",
    "# x_test_scaled = scaler.transform(x_test.T).T\n",
    "\n",
    "y_test = y_test_encoded\n",
    "y_train = y_train_encoded\n",
    "print(\"y_train shape:\", y_train.shape)\n",
    "print(\"y_test shape:\", y_test.shape)\n",
    "\n",
    "# 转置数据，使其每行代表一个样本\n",
    "number_of_train = X_train.shape[0]\n",
    "number_of_test = X_test.shape[0]\n",
    "X_train = X_train.T.reshape(number_of_train, 28, 28, 1)\n",
    "X_test = X_test.T.reshape(number_of_test, 28, 28, 1)\n",
    "\n",
    "# 确保数据类型为 float32 并归一化\n",
    "X_train = X_train.astype('float32') / 255.0\n",
    "X_test = X_test.astype('float32') / 255.0\n",
    "\n",
    "print(\"X_train shape:\", X_train.shape)\n",
    "print(\"X_test shape:\", X_test.shape)\n"
   ]
  },
  {
   "cell_type": "markdown",
   "metadata": {},
   "source": [
    "<!-- <a id=\"10\"></a> <br>\n",
    "# 深度神经网络(DNN)\n",
    "* 2-layer 感知机: \n",
    "    * 神经网络结构： 包括输入层、一个或多个隐藏层以及输出层。\n",
    "    * 激活函数： 激活函数提供了非线性变换，使模型具备拟合复杂数据的能力。tanh激活函数比sigmoid更适合用于隐藏单元，因为它的输出均值更接近于零，从而更好地中心化数据以供下一层使用。\n",
    "\n",
    "<a href=\"http://ibb.co/eF315x\"><img src=\"http://preview.ibb.co/dajVyH/9.jpg\" alt=\"9\" border=\"0\"></a>\n",
    "\n",
    "   \n",
    "    \n",
    "     -->"
   ]
  },
  {
   "cell_type": "markdown",
   "metadata": {},
   "source": [
    "# 简单的全连接网络"
   ]
  },
  {
   "cell_type": "code",
   "execution_count": 11,
   "metadata": {},
   "outputs": [
    {
     "data": {
      "text/html": [
       "<pre style=\"white-space:pre;overflow-x:auto;line-height:normal;font-family:Menlo,'DejaVu Sans Mono',consolas,'Courier New',monospace\"><span style=\"font-weight: bold\">Model: \"sequential\"</span>\n",
       "</pre>\n"
      ],
      "text/plain": [
       "\u001b[1mModel: \"sequential\"\u001b[0m\n"
      ]
     },
     "metadata": {},
     "output_type": "display_data"
    },
    {
     "data": {
      "text/html": [
       "<pre style=\"white-space:pre;overflow-x:auto;line-height:normal;font-family:Menlo,'DejaVu Sans Mono',consolas,'Courier New',monospace\">┏━━━━━━━━━━━━━━━━━━━━━━━━━━━━━━━━━┳━━━━━━━━━━━━━━━━━━━━━━━━┳━━━━━━━━━━━━━━━┓\n",
       "┃<span style=\"font-weight: bold\"> Layer (type)                    </span>┃<span style=\"font-weight: bold\"> Output Shape           </span>┃<span style=\"font-weight: bold\">       Param # </span>┃\n",
       "┡━━━━━━━━━━━━━━━━━━━━━━━━━━━━━━━━━╇━━━━━━━━━━━━━━━━━━━━━━━━╇━━━━━━━━━━━━━━━┩\n",
       "│ flatten (<span style=\"color: #0087ff; text-decoration-color: #0087ff\">Flatten</span>)               │ (<span style=\"color: #00d7ff; text-decoration-color: #00d7ff\">None</span>, <span style=\"color: #00af00; text-decoration-color: #00af00\">784</span>)            │             <span style=\"color: #00af00; text-decoration-color: #00af00\">0</span> │\n",
       "├─────────────────────────────────┼────────────────────────┼───────────────┤\n",
       "│ dense (<span style=\"color: #0087ff; text-decoration-color: #0087ff\">Dense</span>)                   │ (<span style=\"color: #00d7ff; text-decoration-color: #00d7ff\">None</span>, <span style=\"color: #00af00; text-decoration-color: #00af00\">64</span>)             │        <span style=\"color: #00af00; text-decoration-color: #00af00\">50,240</span> │\n",
       "├─────────────────────────────────┼────────────────────────┼───────────────┤\n",
       "│ dense_1 (<span style=\"color: #0087ff; text-decoration-color: #0087ff\">Dense</span>)                 │ (<span style=\"color: #00d7ff; text-decoration-color: #00d7ff\">None</span>, <span style=\"color: #00af00; text-decoration-color: #00af00\">32</span>)             │         <span style=\"color: #00af00; text-decoration-color: #00af00\">2,080</span> │\n",
       "├─────────────────────────────────┼────────────────────────┼───────────────┤\n",
       "│ dense_2 (<span style=\"color: #0087ff; text-decoration-color: #0087ff\">Dense</span>)                 │ (<span style=\"color: #00d7ff; text-decoration-color: #00d7ff\">None</span>, <span style=\"color: #00af00; text-decoration-color: #00af00\">10</span>)             │           <span style=\"color: #00af00; text-decoration-color: #00af00\">330</span> │\n",
       "└─────────────────────────────────┴────────────────────────┴───────────────┘\n",
       "</pre>\n"
      ],
      "text/plain": [
       "┏━━━━━━━━━━━━━━━━━━━━━━━━━━━━━━━━━┳━━━━━━━━━━━━━━━━━━━━━━━━┳━━━━━━━━━━━━━━━┓\n",
       "┃\u001b[1m \u001b[0m\u001b[1mLayer (type)                   \u001b[0m\u001b[1m \u001b[0m┃\u001b[1m \u001b[0m\u001b[1mOutput Shape          \u001b[0m\u001b[1m \u001b[0m┃\u001b[1m \u001b[0m\u001b[1m      Param #\u001b[0m\u001b[1m \u001b[0m┃\n",
       "┡━━━━━━━━━━━━━━━━━━━━━━━━━━━━━━━━━╇━━━━━━━━━━━━━━━━━━━━━━━━╇━━━━━━━━━━━━━━━┩\n",
       "│ flatten (\u001b[38;5;33mFlatten\u001b[0m)               │ (\u001b[38;5;45mNone\u001b[0m, \u001b[38;5;34m784\u001b[0m)            │             \u001b[38;5;34m0\u001b[0m │\n",
       "├─────────────────────────────────┼────────────────────────┼───────────────┤\n",
       "│ dense (\u001b[38;5;33mDense\u001b[0m)                   │ (\u001b[38;5;45mNone\u001b[0m, \u001b[38;5;34m64\u001b[0m)             │        \u001b[38;5;34m50,240\u001b[0m │\n",
       "├─────────────────────────────────┼────────────────────────┼───────────────┤\n",
       "│ dense_1 (\u001b[38;5;33mDense\u001b[0m)                 │ (\u001b[38;5;45mNone\u001b[0m, \u001b[38;5;34m32\u001b[0m)             │         \u001b[38;5;34m2,080\u001b[0m │\n",
       "├─────────────────────────────────┼────────────────────────┼───────────────┤\n",
       "│ dense_2 (\u001b[38;5;33mDense\u001b[0m)                 │ (\u001b[38;5;45mNone\u001b[0m, \u001b[38;5;34m10\u001b[0m)             │           \u001b[38;5;34m330\u001b[0m │\n",
       "└─────────────────────────────────┴────────────────────────┴───────────────┘\n"
      ]
     },
     "metadata": {},
     "output_type": "display_data"
    },
    {
     "data": {
      "text/html": [
       "<pre style=\"white-space:pre;overflow-x:auto;line-height:normal;font-family:Menlo,'DejaVu Sans Mono',consolas,'Courier New',monospace\"><span style=\"font-weight: bold\"> Total params: </span><span style=\"color: #00af00; text-decoration-color: #00af00\">52,650</span> (205.66 KB)\n",
       "</pre>\n"
      ],
      "text/plain": [
       "\u001b[1m Total params: \u001b[0m\u001b[38;5;34m52,650\u001b[0m (205.66 KB)\n"
      ]
     },
     "metadata": {},
     "output_type": "display_data"
    },
    {
     "data": {
      "text/html": [
       "<pre style=\"white-space:pre;overflow-x:auto;line-height:normal;font-family:Menlo,'DejaVu Sans Mono',consolas,'Courier New',monospace\"><span style=\"font-weight: bold\"> Trainable params: </span><span style=\"color: #00af00; text-decoration-color: #00af00\">52,650</span> (205.66 KB)\n",
       "</pre>\n"
      ],
      "text/plain": [
       "\u001b[1m Trainable params: \u001b[0m\u001b[38;5;34m52,650\u001b[0m (205.66 KB)\n"
      ]
     },
     "metadata": {},
     "output_type": "display_data"
    },
    {
     "data": {
      "text/html": [
       "<pre style=\"white-space:pre;overflow-x:auto;line-height:normal;font-family:Menlo,'DejaVu Sans Mono',consolas,'Courier New',monospace\"><span style=\"font-weight: bold\"> Non-trainable params: </span><span style=\"color: #00af00; text-decoration-color: #00af00\">0</span> (0.00 B)\n",
       "</pre>\n"
      ],
      "text/plain": [
       "\u001b[1m Non-trainable params: \u001b[0m\u001b[38;5;34m0\u001b[0m (0.00 B)\n"
      ]
     },
     "metadata": {},
     "output_type": "display_data"
    },
    {
     "name": "stdout",
     "output_type": "stream",
     "text": [
      "Epoch 1/50\n",
      "\u001b[1m893/893\u001b[0m \u001b[32m━━━━━━━━━━━━━━━━━━━━\u001b[0m\u001b[37m\u001b[0m \u001b[1m4s\u001b[0m 2ms/step - accuracy: 0.1017 - loss: 2.3142 - val_accuracy: 0.1105 - val_loss: 2.3020\n",
      "Epoch 2/50\n",
      "\u001b[1m893/893\u001b[0m \u001b[32m━━━━━━━━━━━━━━━━━━━━\u001b[0m\u001b[37m\u001b[0m \u001b[1m1s\u001b[0m 1ms/step - accuracy: 0.1178 - loss: 2.2972 - val_accuracy: 0.1085 - val_loss: 2.3037\n",
      "Epoch 3/50\n",
      "\u001b[1m893/893\u001b[0m \u001b[32m━━━━━━━━━━━━━━━━━━━━\u001b[0m\u001b[37m\u001b[0m \u001b[1m1s\u001b[0m 962us/step - accuracy: 0.1416 - loss: 2.2782 - val_accuracy: 0.1035 - val_loss: 2.3157\n",
      "Epoch 4/50\n",
      "\u001b[1m893/893\u001b[0m \u001b[32m━━━━━━━━━━━━━━━━━━━━\u001b[0m\u001b[37m\u001b[0m \u001b[1m1s\u001b[0m 976us/step - accuracy: 0.1679 - loss: 2.2339 - val_accuracy: 0.0992 - val_loss: 2.3363\n",
      "Epoch 5/50\n",
      "\u001b[1m893/893\u001b[0m \u001b[32m━━━━━━━━━━━━━━━━━━━━\u001b[0m\u001b[37m\u001b[0m \u001b[1m1s\u001b[0m 963us/step - accuracy: 0.2022 - loss: 2.1595 - val_accuracy: 0.1015 - val_loss: 2.3760\n",
      "Epoch 6/50\n",
      "\u001b[1m893/893\u001b[0m \u001b[32m━━━━━━━━━━━━━━━━━━━━\u001b[0m\u001b[37m\u001b[0m \u001b[1m1s\u001b[0m 941us/step - accuracy: 0.2388 - loss: 2.0773 - val_accuracy: 0.1008 - val_loss: 2.4355\n",
      "Epoch 7/50\n",
      "\u001b[1m893/893\u001b[0m \u001b[32m━━━━━━━━━━━━━━━━━━━━\u001b[0m\u001b[37m\u001b[0m \u001b[1m1s\u001b[0m 984us/step - accuracy: 0.2690 - loss: 1.9934 - val_accuracy: 0.1011 - val_loss: 2.5342\n",
      "Epoch 8/50\n",
      "\u001b[1m893/893\u001b[0m \u001b[32m━━━━━━━━━━━━━━━━━━━━\u001b[0m\u001b[37m\u001b[0m \u001b[1m1s\u001b[0m 941us/step - accuracy: 0.2978 - loss: 1.9151 - val_accuracy: 0.1042 - val_loss: 2.6172\n",
      "Epoch 9/50\n",
      "\u001b[1m893/893\u001b[0m \u001b[32m━━━━━━━━━━━━━━━━━━━━\u001b[0m\u001b[37m\u001b[0m \u001b[1m1s\u001b[0m 1ms/step - accuracy: 0.3268 - loss: 1.8328 - val_accuracy: 0.1022 - val_loss: 2.6943\n",
      "Epoch 10/50\n",
      "\u001b[1m893/893\u001b[0m \u001b[32m━━━━━━━━━━━━━━━━━━━━\u001b[0m\u001b[37m\u001b[0m \u001b[1m1s\u001b[0m 877us/step - accuracy: 0.3547 - loss: 1.7629 - val_accuracy: 0.1036 - val_loss: 2.8246\n",
      "Epoch 11/50\n",
      "\u001b[1m893/893\u001b[0m \u001b[32m━━━━━━━━━━━━━━━━━━━━\u001b[0m\u001b[37m\u001b[0m \u001b[1m1s\u001b[0m 898us/step - accuracy: 0.3716 - loss: 1.7181 - val_accuracy: 0.1021 - val_loss: 2.9443\n",
      "Epoch 12/50\n",
      "\u001b[1m893/893\u001b[0m \u001b[32m━━━━━━━━━━━━━━━━━━━━\u001b[0m\u001b[37m\u001b[0m \u001b[1m1s\u001b[0m 889us/step - accuracy: 0.3943 - loss: 1.6542 - val_accuracy: 0.1010 - val_loss: 3.0612\n",
      "Epoch 13/50\n",
      "\u001b[1m893/893\u001b[0m \u001b[32m━━━━━━━━━━━━━━━━━━━━\u001b[0m\u001b[37m\u001b[0m \u001b[1m1s\u001b[0m 866us/step - accuracy: 0.4128 - loss: 1.5936 - val_accuracy: 0.1077 - val_loss: 3.1908\n",
      "Epoch 14/50\n",
      "\u001b[1m893/893\u001b[0m \u001b[32m━━━━━━━━━━━━━━━━━━━━\u001b[0m\u001b[37m\u001b[0m \u001b[1m1s\u001b[0m 909us/step - accuracy: 0.4326 - loss: 1.5525 - val_accuracy: 0.1048 - val_loss: 3.3220\n",
      "Epoch 15/50\n",
      "\u001b[1m893/893\u001b[0m \u001b[32m━━━━━━━━━━━━━━━━━━━━\u001b[0m\u001b[37m\u001b[0m \u001b[1m1s\u001b[0m 871us/step - accuracy: 0.4454 - loss: 1.5179 - val_accuracy: 0.1052 - val_loss: 3.4962\n",
      "Epoch 16/50\n",
      "\u001b[1m893/893\u001b[0m \u001b[32m━━━━━━━━━━━━━━━━━━━━\u001b[0m\u001b[37m\u001b[0m \u001b[1m1s\u001b[0m 911us/step - accuracy: 0.4494 - loss: 1.4862 - val_accuracy: 0.1032 - val_loss: 3.6072\n",
      "Epoch 17/50\n",
      "\u001b[1m893/893\u001b[0m \u001b[32m━━━━━━━━━━━━━━━━━━━━\u001b[0m\u001b[37m\u001b[0m \u001b[1m1s\u001b[0m 857us/step - accuracy: 0.4704 - loss: 1.4561 - val_accuracy: 0.1057 - val_loss: 3.7460\n",
      "Epoch 18/50\n",
      "\u001b[1m893/893\u001b[0m \u001b[32m━━━━━━━━━━━━━━━━━━━━\u001b[0m\u001b[37m\u001b[0m \u001b[1m1s\u001b[0m 885us/step - accuracy: 0.4808 - loss: 1.4185 - val_accuracy: 0.1004 - val_loss: 3.9335\n",
      "Epoch 19/50\n",
      "\u001b[1m893/893\u001b[0m \u001b[32m━━━━━━━━━━━━━━━━━━━━\u001b[0m\u001b[37m\u001b[0m \u001b[1m1s\u001b[0m 899us/step - accuracy: 0.4925 - loss: 1.3836 - val_accuracy: 0.1050 - val_loss: 4.0469\n",
      "Epoch 20/50\n",
      "\u001b[1m893/893\u001b[0m \u001b[32m━━━━━━━━━━━━━━━━━━━━\u001b[0m\u001b[37m\u001b[0m \u001b[1m1s\u001b[0m 948us/step - accuracy: 0.4965 - loss: 1.3658 - val_accuracy: 0.1024 - val_loss: 4.2226\n",
      "Epoch 21/50\n",
      "\u001b[1m893/893\u001b[0m \u001b[32m━━━━━━━━━━━━━━━━━━━━\u001b[0m\u001b[37m\u001b[0m \u001b[1m1s\u001b[0m 967us/step - accuracy: 0.5192 - loss: 1.3283 - val_accuracy: 0.1043 - val_loss: 4.4015\n",
      "Epoch 22/50\n",
      "\u001b[1m893/893\u001b[0m \u001b[32m━━━━━━━━━━━━━━━━━━━━\u001b[0m\u001b[37m\u001b[0m \u001b[1m1s\u001b[0m 979us/step - accuracy: 0.5181 - loss: 1.3198 - val_accuracy: 0.1025 - val_loss: 4.5028\n",
      "Epoch 23/50\n",
      "\u001b[1m893/893\u001b[0m \u001b[32m━━━━━━━━━━━━━━━━━━━━\u001b[0m\u001b[37m\u001b[0m \u001b[1m1s\u001b[0m 888us/step - accuracy: 0.5247 - loss: 1.2935 - val_accuracy: 0.1073 - val_loss: 4.7120\n",
      "Epoch 24/50\n",
      "\u001b[1m893/893\u001b[0m \u001b[32m━━━━━━━━━━━━━━━━━━━━\u001b[0m\u001b[37m\u001b[0m \u001b[1m1s\u001b[0m 876us/step - accuracy: 0.5373 - loss: 1.2664 - val_accuracy: 0.1073 - val_loss: 4.8718\n",
      "Epoch 25/50\n",
      "\u001b[1m893/893\u001b[0m \u001b[32m━━━━━━━━━━━━━━━━━━━━\u001b[0m\u001b[37m\u001b[0m \u001b[1m1s\u001b[0m 872us/step - accuracy: 0.5424 - loss: 1.2509 - val_accuracy: 0.1074 - val_loss: 4.9661\n",
      "Epoch 26/50\n",
      "\u001b[1m893/893\u001b[0m \u001b[32m━━━━━━━━━━━━━━━━━━━━\u001b[0m\u001b[37m\u001b[0m \u001b[1m1s\u001b[0m 886us/step - accuracy: 0.5489 - loss: 1.2303 - val_accuracy: 0.1029 - val_loss: 5.1105\n",
      "Epoch 27/50\n",
      "\u001b[1m893/893\u001b[0m \u001b[32m━━━━━━━━━━━━━━━━━━━━\u001b[0m\u001b[37m\u001b[0m \u001b[1m1s\u001b[0m 883us/step - accuracy: 0.5524 - loss: 1.2278 - val_accuracy: 0.1006 - val_loss: 5.2306\n",
      "Epoch 28/50\n",
      "\u001b[1m893/893\u001b[0m \u001b[32m━━━━━━━━━━━━━━━━━━━━\u001b[0m\u001b[37m\u001b[0m \u001b[1m1s\u001b[0m 1ms/step - accuracy: 0.5564 - loss: 1.2140 - val_accuracy: 0.1003 - val_loss: 5.3820\n",
      "Epoch 29/50\n",
      "\u001b[1m893/893\u001b[0m \u001b[32m━━━━━━━━━━━━━━━━━━━━\u001b[0m\u001b[37m\u001b[0m \u001b[1m1s\u001b[0m 1ms/step - accuracy: 0.5600 - loss: 1.2054 - val_accuracy: 0.1020 - val_loss: 5.6734\n",
      "Epoch 30/50\n",
      "\u001b[1m893/893\u001b[0m \u001b[32m━━━━━━━━━━━━━━━━━━━━\u001b[0m\u001b[37m\u001b[0m \u001b[1m1s\u001b[0m 1ms/step - accuracy: 0.5686 - loss: 1.1780 - val_accuracy: 0.1041 - val_loss: 5.7337\n",
      "Epoch 31/50\n",
      "\u001b[1m893/893\u001b[0m \u001b[32m━━━━━━━━━━━━━━━━━━━━\u001b[0m\u001b[37m\u001b[0m \u001b[1m1s\u001b[0m 1ms/step - accuracy: 0.5662 - loss: 1.1791 - val_accuracy: 0.1020 - val_loss: 5.7877\n",
      "Epoch 32/50\n",
      "\u001b[1m893/893\u001b[0m \u001b[32m━━━━━━━━━━━━━━━━━━━━\u001b[0m\u001b[37m\u001b[0m \u001b[1m1s\u001b[0m 1ms/step - accuracy: 0.5773 - loss: 1.1587 - val_accuracy: 0.1029 - val_loss: 5.9909\n",
      "Epoch 33/50\n",
      "\u001b[1m893/893\u001b[0m \u001b[32m━━━━━━━━━━━━━━━━━━━━\u001b[0m\u001b[37m\u001b[0m \u001b[1m1s\u001b[0m 990us/step - accuracy: 0.5766 - loss: 1.1555 - val_accuracy: 0.0975 - val_loss: 6.0987\n",
      "Epoch 34/50\n",
      "\u001b[1m893/893\u001b[0m \u001b[32m━━━━━━━━━━━━━━━━━━━━\u001b[0m\u001b[37m\u001b[0m \u001b[1m1s\u001b[0m 890us/step - accuracy: 0.5967 - loss: 1.1075 - val_accuracy: 0.1031 - val_loss: 6.3348\n",
      "Epoch 35/50\n",
      "\u001b[1m893/893\u001b[0m \u001b[32m━━━━━━━━━━━━━━━━━━━━\u001b[0m\u001b[37m\u001b[0m \u001b[1m1s\u001b[0m 856us/step - accuracy: 0.5877 - loss: 1.1311 - val_accuracy: 0.1001 - val_loss: 6.3275\n",
      "Epoch 36/50\n",
      "\u001b[1m893/893\u001b[0m \u001b[32m━━━━━━━━━━━━━━━━━━━━\u001b[0m\u001b[37m\u001b[0m \u001b[1m1s\u001b[0m 927us/step - accuracy: 0.5903 - loss: 1.1208 - val_accuracy: 0.0986 - val_loss: 6.5982\n",
      "Epoch 37/50\n",
      "\u001b[1m893/893\u001b[0m \u001b[32m━━━━━━━━━━━━━━━━━━━━\u001b[0m\u001b[37m\u001b[0m \u001b[1m1s\u001b[0m 985us/step - accuracy: 0.5976 - loss: 1.0986 - val_accuracy: 0.1004 - val_loss: 6.6535\n",
      "Epoch 38/50\n",
      "\u001b[1m893/893\u001b[0m \u001b[32m━━━━━━━━━━━━━━━━━━━━\u001b[0m\u001b[37m\u001b[0m \u001b[1m1s\u001b[0m 924us/step - accuracy: 0.5964 - loss: 1.1066 - val_accuracy: 0.1055 - val_loss: 6.9266\n",
      "Epoch 39/50\n",
      "\u001b[1m893/893\u001b[0m \u001b[32m━━━━━━━━━━━━━━━━━━━━\u001b[0m\u001b[37m\u001b[0m \u001b[1m1s\u001b[0m 929us/step - accuracy: 0.6060 - loss: 1.0940 - val_accuracy: 0.1001 - val_loss: 6.9908\n",
      "Epoch 40/50\n",
      "\u001b[1m893/893\u001b[0m \u001b[32m━━━━━━━━━━━━━━━━━━━━\u001b[0m\u001b[37m\u001b[0m \u001b[1m1s\u001b[0m 980us/step - accuracy: 0.6026 - loss: 1.0792 - val_accuracy: 0.1039 - val_loss: 7.0650\n",
      "Epoch 41/50\n",
      "\u001b[1m893/893\u001b[0m \u001b[32m━━━━━━━━━━━━━━━━━━━━\u001b[0m\u001b[37m\u001b[0m \u001b[1m1s\u001b[0m 922us/step - accuracy: 0.6045 - loss: 1.0834 - val_accuracy: 0.1038 - val_loss: 7.2026\n",
      "Epoch 42/50\n",
      "\u001b[1m893/893\u001b[0m \u001b[32m━━━━━━━━━━━━━━━━━━━━\u001b[0m\u001b[37m\u001b[0m \u001b[1m1s\u001b[0m 875us/step - accuracy: 0.6128 - loss: 1.0552 - val_accuracy: 0.1034 - val_loss: 7.3161\n",
      "Epoch 43/50\n",
      "\u001b[1m893/893\u001b[0m \u001b[32m━━━━━━━━━━━━━━━━━━━━\u001b[0m\u001b[37m\u001b[0m \u001b[1m1s\u001b[0m 868us/step - accuracy: 0.6125 - loss: 1.0502 - val_accuracy: 0.1031 - val_loss: 7.5878\n",
      "Epoch 44/50\n",
      "\u001b[1m893/893\u001b[0m \u001b[32m━━━━━━━━━━━━━━━━━━━━\u001b[0m\u001b[37m\u001b[0m \u001b[1m1s\u001b[0m 862us/step - accuracy: 0.6139 - loss: 1.0574 - val_accuracy: 0.1043 - val_loss: 7.6816\n",
      "Epoch 45/50\n",
      "\u001b[1m893/893\u001b[0m \u001b[32m━━━━━━━━━━━━━━━━━━━━\u001b[0m\u001b[37m\u001b[0m \u001b[1m1s\u001b[0m 868us/step - accuracy: 0.6126 - loss: 1.0573 - val_accuracy: 0.1071 - val_loss: 7.7408\n",
      "Epoch 46/50\n",
      "\u001b[1m893/893\u001b[0m \u001b[32m━━━━━━━━━━━━━━━━━━━━\u001b[0m\u001b[37m\u001b[0m \u001b[1m1s\u001b[0m 873us/step - accuracy: 0.6197 - loss: 1.0436 - val_accuracy: 0.1036 - val_loss: 7.8297\n",
      "Epoch 47/50\n",
      "\u001b[1m893/893\u001b[0m \u001b[32m━━━━━━━━━━━━━━━━━━━━\u001b[0m\u001b[37m\u001b[0m \u001b[1m1s\u001b[0m 865us/step - accuracy: 0.6215 - loss: 1.0331 - val_accuracy: 0.1018 - val_loss: 7.9573\n",
      "Epoch 48/50\n",
      "\u001b[1m893/893\u001b[0m \u001b[32m━━━━━━━━━━━━━━━━━━━━\u001b[0m\u001b[37m\u001b[0m \u001b[1m1s\u001b[0m 891us/step - accuracy: 0.6292 - loss: 1.0142 - val_accuracy: 0.1018 - val_loss: 8.1296\n",
      "Epoch 49/50\n",
      "\u001b[1m893/893\u001b[0m \u001b[32m━━━━━━━━━━━━━━━━━━━━\u001b[0m\u001b[37m\u001b[0m \u001b[1m1s\u001b[0m 888us/step - accuracy: 0.6286 - loss: 1.0176 - val_accuracy: 0.1049 - val_loss: 8.2937\n",
      "Epoch 50/50\n",
      "\u001b[1m893/893\u001b[0m \u001b[32m━━━━━━━━━━━━━━━━━━━━\u001b[0m\u001b[37m\u001b[0m \u001b[1m1s\u001b[0m 880us/step - accuracy: 0.6239 - loss: 1.0259 - val_accuracy: 0.1004 - val_loss: 8.4718\n"
     ]
    }
   ],
   "source": [
    "from tensorflow.keras import Sequential\n",
    "from tensorflow.keras.layers import Dense, Flatten\n",
    "\n",
    "model = Sequential([\n",
    "    Flatten(input_shape=(28, 28, 1)),  # 展平层将 28x28 图像转换为一维\n",
    "    Dense(64, activation='relu'),     # 第一层\n",
    "    Dense(32, activation='relu'),     # 第二层\n",
    "    Dense(10, activation='softmax')   # 输出层\n",
    "])\n",
    "\n",
    "# 编译模型\n",
    "model.compile(optimizer='adam',\n",
    "              loss='categorical_crossentropy',\n",
    "              metrics=['accuracy'])\n",
    "\n",
    "# 打印模型结构\n",
    "model.summary()\n",
    "\n",
    "# 训练模型\n",
    "history = model.fit(X_train, y_train_encoded, epochs=50, batch_size=32, validation_split=0.2)\n",
    "\n"
   ]
  }
 ],
 "metadata": {
  "kernelspec": {
   "display_name": "base",
   "language": "python",
   "name": "python3"
  },
  "language_info": {
   "codemirror_mode": {
    "name": "ipython",
    "version": 3
   },
   "file_extension": ".py",
   "mimetype": "text/x-python",
   "name": "python",
   "nbconvert_exporter": "python",
   "pygments_lexer": "ipython3",
   "version": "3.12.7"
  }
 },
 "nbformat": 4,
 "nbformat_minor": 2
}
